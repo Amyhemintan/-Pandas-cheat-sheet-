{
  "nbformat": 4,
  "nbformat_minor": 0,
  "metadata": {
    "colab": {
      "name": "SQL queries in Pandas .ipynb",
      "provenance": [],
      "collapsed_sections": [
        "EOSklY592PmR",
        "LBYU_Wxl6WBp",
        "kxaeqYmH7U-7",
        "Ca_zZIFL9Osc",
        "GNHg6azZ-na6",
        "UrY-v617AFOo",
        "9OBKVsHJAyuq",
        "VW9F7h1ICrz6",
        "2yjiAoZZC_oB",
        "Akltv8DnEIOu",
        "HclUDwdoFbvq"
      ]
    },
    "kernelspec": {
      "name": "python3",
      "display_name": "Python 3"
    },
    "language_info": {
      "name": "python"
    }
  },
  "cells": [
    {
      "cell_type": "markdown",
      "metadata": {
        "id": "usVdzq56yvAK"
      },
      "source": [
        "# About Pandas "
      ]
    },
    {
      "cell_type": "code",
      "metadata": {
        "id": "C50sdoKpyylK"
      },
      "source": [
        "Pandas: Python Data Analysis Library for data analysis and manipulation.\n",
        "Pandas’ syntax is quite different from SQL. \n",
        "In Pandas, you apply operations on the dataset, and chain them, in order to transform and reshape the data the way you want it.\n"
      ],
      "execution_count": null,
      "outputs": []
    },
    {
      "cell_type": "markdown",
      "metadata": {
        "id": "_sI_EZUwzUfM"
      },
      "source": [
        "# load some data into Pandas"
      ]
    },
    {
      "cell_type": "code",
      "metadata": {
        "id": "MgJceIAZzV-b"
      },
      "source": [
        "import pandas as pd\n",
        "\n",
        "airports = pd.read_csv('data/airports.csv')\n",
        "airport_freq = pd.read_csv('data/airport-frequencies.csv')\n",
        "runways = pd.read_csv('data/runways.csv')"
      ],
      "execution_count": null,
      "outputs": []
    },
    {
      "cell_type": "markdown",
      "metadata": {
        "id": "zCD5dUaAzaxD"
      },
      "source": [
        "SELECT, WHERE, DISTINCT, LIMIT"
      ]
    },
    {
      "cell_type": "code",
      "metadata": {
        "id": "yLXo5yeBzaXj"
      },
      "source": [
        "Here are some SELECT statements.\n",
        "We truncate results with LIMIT, and filter them with WHERE.\n",
        "We use DISTINCT to remove duplicated results."
      ],
      "execution_count": null,
      "outputs": []
    },
    {
      "cell_type": "code",
      "metadata": {
        "id": "yov7SgtSzpzf"
      },
      "source": [
        "#SQL:\n",
        "select * from airports\n",
        "select * from airports limit 3\n",
        "select id from airports where ident = 'KLAX'\n",
        "select distinct type from airport\n",
        "#Pandas\n",
        "airports\n",
        "airports.head(3)\n",
        "airports[airports.ident == 'KLAX'].id\n",
        "airports.type.unique()"
      ],
      "execution_count": null,
      "outputs": []
    },
    {
      "cell_type": "markdown",
      "metadata": {
        "id": "--HhBSN_0gFW"
      },
      "source": [
        "# SELECT with multiple conditions"
      ]
    },
    {
      "cell_type": "code",
      "metadata": {
        "id": "tuVGDJ150h-k"
      },
      "source": [
        "We join multiple conditions with an &. \n",
        "\n",
        "If we only want a subset of columns from the table, \n",
        "that subset is applied in another pair of square brackets.[]"
      ],
      "execution_count": null,
      "outputs": []
    },
    {
      "cell_type": "code",
      "metadata": {
        "id": "mjeqpCQx0wi6"
      },
      "source": [
        "#SQL\n",
        "select * from airports where iso_region = 'US-CA' and type = 'seaplane_base'\n",
        "select ident, name, municipality from airports where iso_region = 'US-CA' and type = 'large_airport'\n",
        "#Pandas\n",
        "airports[(airports.iso_region == 'US-CA') & (airports.type == 'seaplane_base')]\n",
        "airports[(airports.iso_region == 'US-CA') & (airports.type == 'large_airport')][['ident', 'name', 'municipality']]\n"
      ],
      "execution_count": null,
      "outputs": []
    },
    {
      "cell_type": "markdown",
      "metadata": {
        "id": "Pnat8WAP1MJS"
      },
      "source": [
        "# ORDER BY"
      ]
    },
    {
      "cell_type": "code",
      "metadata": {
        "id": "getr9Lrv1P1i"
      },
      "source": [
        "By default, Pandas will sort things in ascending order.\n",
        "To reverse that, provide ascending=False."
      ],
      "execution_count": null,
      "outputs": []
    },
    {
      "cell_type": "code",
      "metadata": {
        "id": "TIcbWgGX1Tyb"
      },
      "source": [
        "#SQL\n",
        "select * from airport_freq where airport_ident = 'KLAX' order by type\n",
        "select * from airport_freq where airport_ident = 'KLAX' order by type desc\n",
        "#Pandas\n",
        "airport_freq[airport_freq.airport_ident == 'KLAX'].sort_values('type')\n",
        "airport_freq[airport_freq.airport_ident == 'KLAX'].sort_values('type', ascending=False)"
      ],
      "execution_count": null,
      "outputs": []
    },
    {
      "cell_type": "markdown",
      "metadata": {
        "id": "e0XOLWWs1pW0"
      },
      "source": [
        "# IN… NOT IN"
      ]
    },
    {
      "cell_type": "code",
      "metadata": {
        "id": "Bt6cCk-h1rqq"
      },
      "source": [
        "In pandas, .isin() operator works the same way. \n",
        "To negate any condition, use ~."
      ],
      "execution_count": null,
      "outputs": []
    },
    {
      "cell_type": "code",
      "metadata": {
        "id": "qcW7ROeI1_UT"
      },
      "source": [
        "#SQL\n",
        "select * from airports where type in ('heliport', 'balloonport')\n",
        "select * from airports where type not in ('heliport', 'balloonport')\n",
        "#Pandas\n",
        "airports[airports.type.isin(['heliport', 'balloonport'])]\n",
        "airports[~airports.type.isin(['heliport', 'balloonport'])]"
      ],
      "execution_count": null,
      "outputs": []
    },
    {
      "cell_type": "markdown",
      "metadata": {
        "id": "EOSklY592PmR"
      },
      "source": [
        "# GROUP BY, COUNT, ORDER BY"
      ]
    },
    {
      "cell_type": "code",
      "metadata": {
        "id": "WRl73L_R2hU7"
      },
      "source": [
        "Grouping is straightforward: use the .groupby() operator. \n",
        "\n",
        "In Pandas, .count() will return the number of non-null/NaN values.\n",
        "To get the same result as the SQL COUNT, use .size()."
      ],
      "execution_count": null,
      "outputs": []
    },
    {
      "cell_type": "code",
      "metadata": {
        "id": "jX30KXem4Ieo"
      },
      "source": [
        "#SQL\n",
        "select iso_country, type, count(*) from airports group by iso_country, type order by iso_country, type\n",
        "select iso_country, type, count(*) from airports group by iso_country, type order by iso_country, count(*) desc\n",
        "#Pandas\n",
        "airports.groupby(['iso_country', 'type']).size()\n",
        "airports.groupby(['iso_country', 'type']).size().to_frame('size').reset_index().sort_values(['iso_country', 'size'], ascending=[True, False])"
      ],
      "execution_count": null,
      "outputs": []
    },
    {
      "cell_type": "code",
      "metadata": {
        "id": "TQz96Jhs57F-"
      },
      "source": [
        " .to_frame() \n",
        "Because we want to sort by our calculated field (size), this field needs to become part of the DataFrame. \n",
        "After grouping in Pandas, we get back a different type, called a GroupByObject. \n",
        "So we need to convert it back to a DataFrame.\n",
        "\n",
        " .reset_index()\n",
        " With .reset_index(), we restart row numbering for our data frame."
      ],
      "execution_count": null,
      "outputs": []
    },
    {
      "cell_type": "code",
      "metadata": {
        "id": "ooR8GjXQ41wz"
      },
      "source": [
        "Ex1: Pandas will sort things on the same list of fields by default, so there’s no need for a .sort_values() \n",
        "Ex2: If we want to use different fields for sorting, or DESC instead of ASC "
      ],
      "execution_count": null,
      "outputs": []
    },
    {
      "cell_type": "code",
      "metadata": {
        "id": "56aRY1fd5EQ6"
      },
      "source": [
        "#SQL\n",
        "select iso_country, type, count(*) from airports group by iso_country, type order by iso_country, type\n",
        "select iso_country, type, count(*) from airports group by iso_country, type order by iso_country, count(*) desc\n",
        "#Pandas\n",
        "airports.groupby(['iso_country', 'type']).size() #Ex1\n",
        "airports.groupby(['iso_country', 'type']).size().to_frame('size').reset_index().sort_values(['iso_country', 'size'], ascending=[True, False]) #Ex2"
      ],
      "execution_count": null,
      "outputs": []
    },
    {
      "cell_type": "markdown",
      "metadata": {
        "id": "LBYU_Wxl6WBp"
      },
      "source": [
        "# HAVING"
      ]
    },
    {
      "cell_type": "code",
      "metadata": {
        "id": "1zOrRDmw6ZDY"
      },
      "source": [
        "In SQL, you can additionally filter grouped data using a HAVING condition.\n",
        "\n",
        "In Pandas, you can use .filter() and provide a Python function (or a lambda) \n",
        "that will return True if the group should be included into the result."
      ],
      "execution_count": null,
      "outputs": []
    },
    {
      "cell_type": "code",
      "metadata": {
        "id": "Siye45CC6oT7"
      },
      "source": [
        "#SQL\n",
        "select type, count(*) from airports where iso_country = 'US' group by type having count(*) > 1000 order by count(*) desc\n",
        "#Pandas\n",
        "airports[airports.iso_country == 'US'].groupby('type').filter(lambda g: len(g) > 1000).groupby('type').size().sort_values(ascending=False)\n"
      ],
      "execution_count": null,
      "outputs": []
    },
    {
      "cell_type": "markdown",
      "metadata": {
        "id": "kxaeqYmH7U-7"
      },
      "source": [
        "# Top N records"
      ]
    },
    {
      "cell_type": "code",
      "metadata": {
        "id": "xbqO3w1b8L5W"
      },
      "source": [
        "Ex1:We order things by airport_count and only select the top 10 countries with the largest count.\n",
        "Ex2:we want “the next 10 after the top 10”"
      ],
      "execution_count": null,
      "outputs": []
    },
    {
      "cell_type": "code",
      "metadata": {
        "id": "Un0XtWyu8jbP"
      },
      "source": [
        "#SQL\n",
        "select iso_country from by_country order by size desc limit 10\n",
        "select iso_country from by_country order by size desc limit 10 offset 10\n",
        "#Pandas\n",
        "by_country.nlargest(10, columns='airport_count') #Ex1\n",
        "by_country.nlargest(20, columns='airport_count').tail(10) #Ex2"
      ],
      "execution_count": null,
      "outputs": []
    },
    {
      "cell_type": "markdown",
      "metadata": {
        "id": "Ca_zZIFL9Osc"
      },
      "source": [
        "# Aggregate functions (MIN, MAX, MEAN)"
      ]
    },
    {
      "cell_type": "code",
      "metadata": {
        "id": "KAGkhPgQ9OTA"
      },
      "source": [
        "Calculate min, max, mean, and median length of a runway:"
      ],
      "execution_count": null,
      "outputs": []
    },
    {
      "cell_type": "code",
      "metadata": {
        "id": "eL5PMhnX9omT"
      },
      "source": [
        "#SQL\n",
        "select max(length_ft), min(length_ft), avg(length_ft), median(length_ft) from runways\n",
        "#Pandas\n",
        "runways.agg({'length_ft': ['min', 'max', 'mean', 'median']})\n"
      ],
      "execution_count": null,
      "outputs": []
    },
    {
      "cell_type": "code",
      "metadata": {
        "id": "xbwTE0Rq-ab7"
      },
      "source": [
        "change Pandas from row to colume\n",
        "simply transpose the dataframe with .T to get columns: df.T"
      ],
      "execution_count": null,
      "outputs": []
    },
    {
      "cell_type": "markdown",
      "metadata": {
        "id": "GNHg6azZ-na6"
      },
      "source": [
        "# JOIN"
      ]
    },
    {
      "cell_type": "code",
      "metadata": {
        "id": "q2ZYPNvP-q48"
      },
      "source": [
        "Use .merge() to join Pandas dataframes.\n",
        "You need to provide which columns to join on (left_on and right_on)\n",
        "and join type: inner (default), left (corresponds to LEFT OUTER in SQL), right (RIGHT OUTER), or outer (FULL OUTER)."
      ],
      "execution_count": null,
      "outputs": []
    },
    {
      "cell_type": "code",
      "metadata": {
        "id": "ILZLLXnw_CnE"
      },
      "source": [
        "#SQL\n",
        "select airport_ident, type, description, frequency_mhz from airport_freq join airports on airport_freq.airport_ref = airports.id where airports.ident = 'KLAX'\n",
        "#\n",
        "airport_freq.merge(airports[airports.ident == 'KLAX'][['id']], left_on='airport_ref', right_on='id', how='inner')[['airport_ident', 'type', 'description', 'frequency_mhz']]"
      ],
      "execution_count": null,
      "outputs": []
    },
    {
      "cell_type": "markdown",
      "metadata": {
        "id": "UrY-v617AFOo"
      },
      "source": [
        "# UNION ALL and UNION"
      ]
    },
    {
      "cell_type": "code",
      "metadata": {
        "id": "h4Iuk3N4AQsc"
      },
      "source": [
        "Use pd.concat() to UNION ALL two dataframes:\n",
        "or\n",
        "To deduplicate things (equivalent of UNION), you’d also have to add .drop_duplicates()."
      ],
      "execution_count": null,
      "outputs": []
    },
    {
      "cell_type": "code",
      "metadata": {
        "id": "M6XiN_CQARWs"
      },
      "source": [
        "#SQL\n",
        "select name, municipality from airports where ident = 'KLAX' union all select name, municipality from airports where ident = 'KLGB'\n",
        "#Pandas\n",
        "pd.concat([airports[airports.ident == 'KLAX'][['name', 'municipality']], airports[airports.ident == 'KLGB'][['name', 'municipality']]])\n"
      ],
      "execution_count": null,
      "outputs": []
    },
    {
      "cell_type": "markdown",
      "metadata": {
        "id": "9OBKVsHJAyuq"
      },
      "source": [
        "# INSERT"
      ]
    },
    {
      "cell_type": "code",
      "metadata": {
        "id": "-tNoTPjCA01u"
      },
      "source": [
        "There’s no such thing as an INSERT in Pandas.\n",
        "Instead, you would create a new dataframe containing new records, and then concat the two:"
      ],
      "execution_count": null,
      "outputs": []
    },
    {
      "cell_type": "code",
      "metadata": {
        "id": "VJKArd0oA5Zo"
      },
      "source": [
        "#SQL\n",
        "create table heroes (id integer, name text);\n",
        "insert into heroes values (1, 'Harry Potter');\n",
        "insert into heroes values (2, 'Ron Weasley');\n",
        "insert into heroes values (3, 'Hermione Granger');\n",
        "#Pandas\n",
        "df1 = pd.DataFrame({'id': [1, 2], 'name': ['Harry Potter', 'Ron Weasley']})\n",
        "df2 = pd.DataFrame({'id': [3], 'name': ['Hermione Granger']})\n",
        "pd.concat([df1, df2]).reset_index(drop=True)"
      ],
      "execution_count": null,
      "outputs": []
    },
    {
      "cell_type": "markdown",
      "metadata": {
        "id": "VW9F7h1ICrz6"
      },
      "source": [
        "# UPDATE"
      ]
    },
    {
      "cell_type": "code",
      "metadata": {
        "id": "QU-dK-dvCuMI"
      },
      "source": [
        "Now we need to fix some bad data in the original dataframe:"
      ],
      "execution_count": null,
      "outputs": []
    },
    {
      "cell_type": "code",
      "metadata": {
        "id": "qjenzjxpCwHD"
      },
      "source": [
        "#SQL\n",
        "update airports set home_link = 'http://www.lawa.org/welcomelax.aspx' where ident == 'KLAX'\n",
        "#Pandas\n",
        "airports.loc[airports['ident'] == 'KLAX', 'home_link'] = 'http://www.lawa.org/welcomelax.aspx'"
      ],
      "execution_count": null,
      "outputs": []
    },
    {
      "cell_type": "markdown",
      "metadata": {
        "id": "2yjiAoZZC_oB"
      },
      "source": [
        "# DELETE"
      ]
    },
    {
      "cell_type": "code",
      "metadata": {
        "id": "m4pWBr_zDCLV"
      },
      "source": [
        "Way 1: to “delete” things from a Pandas dataframe \n",
        " subset the dataframe to rows you want to keep.\n",
        "\n",
        "Way 2: get the indices of rows to delete, and .drop() rows using those indices:\n"
      ],
      "execution_count": null,
      "outputs": []
    },
    {
      "cell_type": "code",
      "metadata": {
        "id": "hLbg6C0_DXrK"
      },
      "source": [
        "#SQL\n",
        "delete from lax_freq where type = 'MISC'\n",
        "#Pandas\n",
        "lax_freq = lax_freq[lax_freq.type != 'MISC']  #Way 1\n",
        "lax_freq.drop(lax_freq[lax_freq.type == 'MISC'].index)  #Way 2"
      ],
      "execution_count": null,
      "outputs": []
    },
    {
      "cell_type": "markdown",
      "metadata": {
        "id": "Akltv8DnEIOu"
      },
      "source": [
        "# Immutability"
      ]
    },
    {
      "cell_type": "code",
      "metadata": {
        "id": "M2fR2LCzEH8D"
      },
      "source": [
        "By default, most operators applied to a Pandas dataframe return a new object.\n",
        "Some operators accept a parameter inplace=True, so you can work with the original dataframe instead. "
      ],
      "execution_count": null,
      "outputs": []
    },
    {
      "cell_type": "code",
      "metadata": {
        "id": "ZKuJs9JlEs-t"
      },
      "source": [
        "#Reset an index in-place:\n",
        "df.reset_index(drop=True, inplace=True)\n",
        "\n",
        "#updated all values in a column:\n",
        "df['url'] = 'http://google.com'\n",
        "\n",
        "#added a new calculated column:\n",
        "df['total_cost'] = df['price'] * df['quantity']"
      ],
      "execution_count": null,
      "outputs": []
    },
    {
      "cell_type": "markdown",
      "metadata": {
        "id": "HclUDwdoFbvq"
      },
      "source": [
        "# More"
      ]
    },
    {
      "cell_type": "code",
      "metadata": {
        "id": "1cn_gvzQFdiu"
      },
      "source": [
        "The nice thing about Pandas is that it’s more than just a query engine.\n",
        "You can do other things with your data, such as:"
      ],
      "execution_count": null,
      "outputs": []
    },
    {
      "cell_type": "code",
      "metadata": {
        "id": "cFnB5-_YHrIH"
      },
      "source": [
        "#Export to a multitude of formats:\n",
        "df.to_csv(...)  # csv file\n",
        "df.to_hdf(...)  # HDF5 file\n",
        "df.to_pickle(...)  # serialized object\n",
        "df.to_sql(...)  # to SQL database\n",
        "df.to_excel(...)  # to Excel sheet\n",
        "df.to_json(...)  # to JSON string\n",
        "df.to_html(...)  # render as HTML table\n",
        "df.to_feather(...)  # binary feather-format\n",
        "df.to_latex(...)  # tabular environment table\n",
        "df.to_stata(...)  # Stata binary data files\n",
        "df.to_msgpack(...)\t# msgpack (serialize) object\n",
        "df.to_gbq(...)  # to a Google BigQuery table.\n",
        "df.to_string(...)  # console-friendly tabular output.\n",
        "df.to_clipboard(...) # clipboard that can be pasted into Excel"
      ],
      "execution_count": null,
      "outputs": []
    },
    {
      "cell_type": "code",
      "metadata": {
        "id": "cICohy8iHwJH"
      },
      "source": [
        "#Plot it in graph\n",
        "top_10.plot(\n",
        "    x='iso_country', \n",
        "    y='airport_count',\n",
        "    kind='barh',\n",
        "    figsize=(10, 7),\n",
        "    title='Top 10 countries with most airports')\n"
      ],
      "execution_count": null,
      "outputs": []
    }
  ]
}